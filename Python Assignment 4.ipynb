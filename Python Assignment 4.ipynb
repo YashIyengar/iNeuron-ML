{
 "cells": [
  {
   "cell_type": "markdown",
   "metadata": {},
   "source": [
    "### Answer 1.1"
   ]
  },
  {
   "cell_type": "code",
   "execution_count": 30,
   "metadata": {},
   "outputs": [
    {
     "name": "stdout",
     "output_type": "stream",
     "text": [
      "Area of the triangle is 15.59 sq.units\n"
     ]
    }
   ],
   "source": [
    "class sides:      #Parent class to accept length of sides\n",
    "    def __init__(self, a,b,c):\n",
    "        self.a = a\n",
    "        self.b = b\n",
    "        self.c = c  \n",
    "\n",
    "class area(sides): # Child class to calculate area of triangle\n",
    "    def __init__(self,a,b,c):\n",
    "        super(area, self).__init__(a,b,c)\n",
    "    def formula(self):\n",
    "        s = (self.a + self.b + self.c) / 2\n",
    "        return (s*(s-self.a)*(s-self.b)*(s-self.c)) ** 0.5\n",
    "\n",
    "answer = area(6,6,6)\n",
    "print(\"Area of the triangle is {:.2f} sq.units\".format(answer.formula()))"
   ]
  },
  {
   "cell_type": "markdown",
   "metadata": {},
   "source": [
    "### Answer 1.2"
   ]
  },
  {
   "cell_type": "code",
   "execution_count": null,
   "metadata": {},
   "outputs": [],
   "source": [
    "class word_input():\n",
    "    def __init__(self, lyst):\n",
    "        self.lyst = lyst\n",
    "    def filter_long_words(self, n):\n",
    "        return list(filter(lambda x: len(x) > n, self.lyst))"
   ]
  },
  {
   "cell_type": "code",
   "execution_count": 52,
   "metadata": {},
   "outputs": [],
   "source": [
    "l1 = ['Data', 'Science', 'is', 'fun', 'but', 'vast']"
   ]
  },
  {
   "cell_type": "code",
   "execution_count": 53,
   "metadata": {},
   "outputs": [
    {
     "name": "stdout",
     "output_type": "stream",
     "text": [
      "Filtered List is:['Data', 'Science', 'vast']\n"
     ]
    }
   ],
   "source": [
    "test = word_input(l1)\n",
    "print(\"Filtered List is:\"+str(test.filter_long_words(3)))"
   ]
  },
  {
   "cell_type": "markdown",
   "metadata": {},
   "source": [
    "### Answer 2.1"
   ]
  },
  {
   "cell_type": "code",
   "execution_count": 55,
   "metadata": {},
   "outputs": [
    {
     "name": "stdout",
     "output_type": "stream",
     "text": [
      "Length of words in list are:[4, 7, 2, 3, 3, 4]\n"
     ]
    }
   ],
   "source": [
    "class word_list ():\n",
    "    def __init__(self, lyst):\n",
    "        self.lyst = lyst\n",
    "    def word_length(self, lyst):\n",
    "        return list(map(lambda x: len(x), lyst))\n",
    "test1 = word_list(l1)\n",
    "print('Length of words in list are:'+ str(test1.word_length(l1)))"
   ]
  },
  {
   "cell_type": "markdown",
   "metadata": {},
   "source": [
    "### Answer 2.2"
   ]
  },
  {
   "cell_type": "code",
   "execution_count": 76,
   "metadata": {},
   "outputs": [
    {
     "name": "stdout",
     "output_type": "stream",
     "text": [
      "Input an alphabet: b\n"
     ]
    },
    {
     "data": {
      "text/plain": [
       "False"
      ]
     },
     "execution_count": 76,
     "metadata": {},
     "output_type": "execute_result"
    }
   ],
   "source": [
    "def vowel(char):\n",
    "        if (char == 'a' or char == 'e' or char == 'i' or char == 'o' or char == 'u'):\n",
    "            return True\n",
    "        else:\n",
    "            return False\n",
    "char = input('Input an alphabet: ')\n",
    "vowel(char)"
   ]
  },
  {
   "cell_type": "code",
   "execution_count": null,
   "metadata": {},
   "outputs": [],
   "source": []
  }
 ],
 "metadata": {
  "kernelspec": {
   "display_name": "Python 3",
   "language": "python",
   "name": "python3"
  },
  "language_info": {
   "codemirror_mode": {
    "name": "ipython",
    "version": 3
   },
   "file_extension": ".py",
   "mimetype": "text/x-python",
   "name": "python",
   "nbconvert_exporter": "python",
   "pygments_lexer": "ipython3",
   "version": "3.7.6"
  }
 },
 "nbformat": 4,
 "nbformat_minor": 4
}
